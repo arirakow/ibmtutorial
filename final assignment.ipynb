{
 "cells": [
  {
   "cell_type": "markdown",
   "metadata": {
    "collapsed": true
   },
   "source": [
    "# My Jupyter Notebook on IBM Watson Studio"
   ]
  },
  {
   "cell_type": "markdown",
   "metadata": {},
   "source": [
    "__Ariel R__  <br>\n",
    "My desired occupation is AI developing for business"
   ]
  },
  {
   "cell_type": "markdown",
   "metadata": {},
   "source": [
    "_I am interested in data science because I am a curious person passionate about technology, while also having a knack for maths. This field encompasses many of my areas of interest and skills_\n"
   ]
  },
  {
   "cell_type": "markdown",
   "metadata": {},
   "source": [
    "### The code in cell 5 is supposed to take two integer input values and output their product"
   ]
  },
  {
   "cell_type": "code",
   "execution_count": 7,
   "metadata": {
    "collapsed": true
   },
   "outputs": [
    {
     "name": "stdout",
     "output_type": "stream",
     "text": [
      "90\n",
      "86\n",
      "product:\n",
      "7740\n"
     ]
    }
   ],
   "source": [
    "factorOne = int(input())\n",
    "factorTwo = int(input())\n",
    "product = factorOne*factorTwo\n",
    "print(\"product:\")\n",
    "print(product)"
   ]
  },
  {
   "cell_type": "markdown",
   "metadata": {},
   "source": [
    "\n",
    "|Course|N° of hours taken to complete|\n",
    "|-----|-----|\n",
    "|1|6|\n",
    "|2|10|\n",
    "\n",
    "~This is some strikethrough text~\n",
    "\n",
    "I joined this course because:\n",
    "\n",
    "     - I am interested in Machine learning and AI\n",
    "     - I like maths and statistics\n",
    "     - I am passionate about innovation and technology"
   ]
  }
 ],
 "metadata": {
  "kernelspec": {
   "display_name": "Python 3.10",
   "language": "python",
   "name": "python3"
  },
  "language_info": {
   "codemirror_mode": {
    "name": "ipython",
    "version": 3
   },
   "file_extension": ".py",
   "mimetype": "text/x-python",
   "name": "python",
   "nbconvert_exporter": "python",
   "pygments_lexer": "ipython3",
   "version": "3.10.6"
  }
 },
 "nbformat": 4,
 "nbformat_minor": 1
}
